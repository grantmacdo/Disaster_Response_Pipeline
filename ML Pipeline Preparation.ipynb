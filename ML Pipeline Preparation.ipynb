{
 "cells": [
  {
   "cell_type": "markdown",
   "metadata": {},
   "source": [
    "# ML Pipeline Preparation\n",
    "Follow the instructions below to help you create your ML pipeline.\n",
    "### 1. Import libraries and load data from database.\n",
    "- Import Python libraries\n",
    "- Load dataset from database with [`read_sql_table`](https://pandas.pydata.org/pandas-docs/stable/generated/pandas.read_sql_table.html)\n",
    "- Define feature and target variables X and Y"
   ]
  },
  {
   "cell_type": "code",
   "execution_count": 1,
   "metadata": {},
   "outputs": [
    {
     "name": "stdout",
     "output_type": "stream",
     "text": [
      "[nltk_data] Downloading package punkt to /root/nltk_data...\n",
      "[nltk_data]   Unzipping tokenizers/punkt.zip.\n",
      "[nltk_data] Downloading package wordnet to /root/nltk_data...\n",
      "[nltk_data]   Unzipping corpora/wordnet.zip.\n"
     ]
    }
   ],
   "source": [
    "# import libraries\n",
    "import sqlite3\n",
    "import pandas as pd\n",
    "from sqlalchemy import *\n",
    "import re\n",
    "from nltk.tokenize import word_tokenize\n",
    "import nltk\n",
    "nltk.download('punkt')\n",
    "nltk.download('wordnet')\n",
    "from nltk.tokenize import word_tokenize\n",
    "from nltk.stem import WordNetLemmatizer\n",
    "import numpy as np\n",
    "\n",
    "\n",
    "from sklearn.metrics import confusion_matrix\n",
    "from sklearn.model_selection import train_test_split\n",
    "from sklearn.ensemble import RandomForestClassifier\n",
    "from sklearn.feature_extraction.text import CountVectorizer, TfidfTransformer\n",
    "from sklearn.pipeline import Pipeline\n",
    "\n",
    "from sklearn.datasets import make_multilabel_classification\n",
    "from sklearn.multioutput import MultiOutputClassifier\n",
    "from sklearn.neighbors import KNeighborsClassifier\n",
    "from sklearn.metrics import classification_report\n",
    "\n",
    "from sklearn.metrics import f1_score\n",
    "from sklearn.metrics import recall_score\n",
    "from sklearn.metrics import precision_score\n",
    "\n",
    "from sklearn.model_selection import GridSearchCV\n",
    "\n",
    "from statistics import mean\n",
    "\n",
    "from sklearn.multioutput import MultiOutputRegressor\n",
    "from sklearn.ensemble import GradientBoostingRegressor\n",
    "\n",
    "import pickle\n",
    "import time"
   ]
  },
  {
   "cell_type": "code",
   "execution_count": 2,
   "metadata": {},
   "outputs": [],
   "source": [
    "# load data from database\n",
    "engine = create_engine('sqlite:///InsertDatabaseName.db')\n",
    "\n",
    "#engine.table_names()\n",
    "df = pd.read_sql_table('InsertTableName', engine)  \n",
    "df.head()\n",
    "X = df.message \n",
    "Y = df.iloc[:, 4:]"
   ]
  },
  {
   "cell_type": "code",
   "execution_count": 8,
   "metadata": {},
   "outputs": [
    {
     "data": {
      "text/plain": [
       "['id',\n",
       " 'message',\n",
       " 'original',\n",
       " 'genre',\n",
       " 'related',\n",
       " 'request',\n",
       " 'offer',\n",
       " 'aid_related',\n",
       " 'medical_help',\n",
       " 'medical_products',\n",
       " 'search_and_rescue',\n",
       " 'security',\n",
       " 'military',\n",
       " 'child_alone',\n",
       " 'water',\n",
       " 'food',\n",
       " 'shelter',\n",
       " 'clothing',\n",
       " 'money',\n",
       " 'missing_people',\n",
       " 'refugees',\n",
       " 'death',\n",
       " 'other_aid',\n",
       " 'infrastructure_related',\n",
       " 'transport',\n",
       " 'buildings',\n",
       " 'electricity',\n",
       " 'tools',\n",
       " 'hospitals',\n",
       " 'shops',\n",
       " 'aid_centers',\n",
       " 'other_infrastructure',\n",
       " 'weather_related',\n",
       " 'floods',\n",
       " 'storm',\n",
       " 'fire',\n",
       " 'earthquake',\n",
       " 'cold',\n",
       " 'other_weather',\n",
       " 'direct_report']"
      ]
     },
     "execution_count": 8,
     "metadata": {},
     "output_type": "execute_result"
    }
   ],
   "source": [
    "list(df.columns)"
   ]
  },
  {
   "cell_type": "markdown",
   "metadata": {},
   "source": [
    "### 2. Write a tokenization function to process your text data"
   ]
  },
  {
   "cell_type": "code",
   "execution_count": 3,
   "metadata": {},
   "outputs": [],
   "source": [
    "def tokenize(text):\n",
    "    # normalize case and remove punctuation\n",
    "    text = re.sub(r\"[^a-zA-Z0-9]\", \" \", text.lower())\n",
    "    \n",
    "    # tokenize text\n",
    "    tokens = word_tokenize(text)\n",
    "    \n",
    "    ## lemmatize andremove stop words\n",
    "    #tokens = [lemmatizer.lemmatize(word) for word in tokens if word not in stop_words]\n",
    "\n",
    "    # initiate lemmatizer\n",
    "    lemmatizer = WordNetLemmatizer()\n",
    "    \n",
    "    \n",
    "    # iterate through each token\n",
    "    clean_tokens = []\n",
    "    for tok in tokens:\n",
    "        \n",
    "        \n",
    "        # lemmatize, normalize case, and remove leading/trailing white space\n",
    "        clean_tok =  lemmatizer.lemmatize( (tok.strip()).lower())\n",
    "        \n",
    "        \n",
    "        clean_tokens.append(clean_tok)\n",
    "    \n",
    "    return clean_tokens"
   ]
  },
  {
   "cell_type": "code",
   "execution_count": 4,
   "metadata": {},
   "outputs": [
    {
     "data": {
      "text/plain": [
       "['hi', 'there', 'what', 'can', 'i', 'do', 'for', 'you', 'today']"
      ]
     },
     "execution_count": 4,
     "metadata": {},
     "output_type": "execute_result"
    }
   ],
   "source": [
    "tokenize('Hi there! What cAN i do for you_today')"
   ]
  },
  {
   "cell_type": "markdown",
   "metadata": {},
   "source": [
    "### 3. Build a machine learning pipeline\n",
    "This machine pipeline should take in the `message` column as input and output classification results on the other 36 categories in the dataset. You may find the [MultiOutputClassifier](http://scikit-learn.org/stable/modules/generated/sklearn.multioutput.MultiOutputClassifier.html) helpful for predicting multiple target variables."
   ]
  },
  {
   "cell_type": "code",
   "execution_count": 5,
   "metadata": {},
   "outputs": [],
   "source": [
    "pipeline =  Pipeline([\n",
    "        ('vect', CountVectorizer(tokenizer=tokenize)),\n",
    "        ('tfidf', TfidfTransformer()),\n",
    "        ('clf', MultiOutputClassifier(RandomForestClassifier(), n_jobs = -1))\n",
    "        #('clf', MultiOutputRegressor(GradientBoostingRegressor(random_state=0),n_jobs = -1))\n",
    "    ])\n",
    "\n"
   ]
  },
  {
   "cell_type": "markdown",
   "metadata": {},
   "source": [
    "### 4. Train pipeline\n",
    "- Split data into train and test sets\n",
    "- Train pipeline"
   ]
  },
  {
   "cell_type": "code",
   "execution_count": 14,
   "metadata": {},
   "outputs": [
    {
     "name": "stdout",
     "output_type": "stream",
     "text": [
      "training time taken:  83.0 seconds\n"
     ]
    }
   ],
   "source": [
    "start=time.time()\n",
    "\n",
    "\n",
    "X_train, X_test, y_train, y_test = train_test_split(X, Y)\n",
    "pipeline.fit(X_train, y_train)\n",
    "y_pred = pipeline.predict(X_test)\n",
    "\n",
    "print('training time taken: ',round(time.time()-start,0),'seconds')\n",
    "\n"
   ]
  },
  {
   "cell_type": "markdown",
   "metadata": {},
   "source": [
    "### 5. Test your model\n",
    "Report the f1 score, precision and recall for each output category of the dataset. You can do this by iterating through the columns and calling sklearn's `classification_report` on each."
   ]
  },
  {
   "cell_type": "code",
   "execution_count": 15,
   "metadata": {
    "scrolled": false
   },
   "outputs": [
    {
     "name": "stdout",
     "output_type": "stream",
     "text": [
      "Column Name: related\n",
      "f1 score: [ 0.47286496  0.87975218  0.46153846]\n",
      "Precision score: [ 0.64302059  0.82908705  0.64285714]\n",
      "Recall score: [ 0.37391883  0.9370126   0.36      ]\n",
      "\n",
      "Column Name: request\n",
      "f1 score: [ 0.93235704  0.52567237]\n",
      "Precision score: [ 0.88411308  0.85148515]\n",
      "Recall score: [ 0.98617002  0.38019452]\n",
      "\n",
      "Column Name: offer\n",
      "f1 score: [ 0.9974761  0.       ]\n",
      "Precision score: [ 0.99496491  0.        ]\n",
      "Recall score: [ 1.  0.]\n",
      "\n",
      "Column Name: aid_related\n",
      "f1 score: [ 0.79196692  0.62071936]\n",
      "Precision score: [ 0.71885053  0.76203067]\n",
      "Recall score: [ 0.88164124  0.52361919]\n",
      "\n",
      "Column Name: medical_help\n",
      "f1 score: [ 0.95961047  0.12758621]\n",
      "Precision score: [ 0.92662248  0.55223881]\n",
      "Recall score: [ 0.99503393  0.07212476]\n",
      "\n",
      "Column Name: medical_products\n",
      "f1 score: [ 0.97434288  0.09917355]\n",
      "Precision score: [ 0.95230061  0.52941176]\n",
      "Recall score: [ 0.99742972  0.05471125]\n",
      "\n",
      "Column Name: search_and_rescue\n",
      "f1 score: [ 0.98723799  0.07821229]\n",
      "Precision score: [ 0.97554265  0.58333333]\n",
      "Recall score: [ 0.99921716  0.04191617]\n",
      "\n",
      "Column Name: security\n",
      "f1 score: [ 0.99083699  0.01652893]\n",
      "Precision score: [ 0.98214013  0.33333333]\n",
      "Recall score: [ 0.99968925  0.00847458]\n",
      "\n",
      "Column Name: military\n",
      "f1 score: [ 0.98328019  0.13654618]\n",
      "Precision score: [ 0.96785058  0.77272727]\n",
      "Recall score: [ 0.99920974  0.07488987]\n",
      "\n",
      "Column Name: child_alone\n",
      "f1 score: [ 1.]\n",
      "Precision score: [ 1.]\n",
      "Recall score: [ 1.]\n",
      "\n",
      "Column Name: water\n",
      "f1 score: [ 0.97092187  0.38305085]\n",
      "Precision score: [ 0.94568939  0.8828125 ]\n",
      "Recall score: [ 0.99753775  0.24458874]\n",
      "\n",
      "Column Name: food\n",
      "f1 score: [ 0.96055723  0.6057047 ]\n",
      "Precision score: [ 0.93574232  0.82420091]\n",
      "Recall score: [ 0.98672414  0.47877984]\n",
      "\n",
      "Column Name: shelter\n",
      "f1 score: [ 0.95762848  0.24207493]\n",
      "Precision score: [ 0.92197922  0.78504673]\n",
      "Recall score: [ 0.99614547  0.14310051]\n",
      "\n",
      "Column Name: clothing\n",
      "f1 score: [ 0.99299838  0.18018018]\n",
      "Precision score: [ 0.98669725  0.71428571]\n",
      "Recall score: [ 0.99938052  0.10309278]\n",
      "\n",
      "Column Name: money\n",
      "f1 score: [ 0.98865303  0.03921569]\n",
      "Precision score: [ 0.97770992  0.75      ]\n",
      "Recall score: [ 0.99984387  0.02013423]\n",
      "\n",
      "Column Name: missing_people\n",
      "f1 score: [ 0.99401106  0.07142857]\n",
      "Precision score: [ 0.98809342  1.        ]\n",
      "Recall score: [ 1.          0.03703704]\n",
      "\n",
      "Column Name: refugees\n",
      "f1 score: [ 0.98197078  0.03333333]\n",
      "Precision score: [ 0.96472744  0.8       ]\n",
      "Recall score: [ 0.99984175  0.01702128]\n",
      "\n",
      "Column Name: death\n",
      "f1 score: [ 0.97884676  0.21511628]\n",
      "Precision score: [ 0.95945323  0.86046512]\n",
      "Recall score: [ 0.99904046  0.12292359]\n",
      "\n",
      "Column Name: other_aid\n",
      "f1 score: [ 0.92759102  0.06376196]\n",
      "Precision score: [ 0.86922366  0.48387097]\n",
      "Recall score: [ 0.99436123  0.03412969]\n",
      "\n",
      "Column Name: infrastructure_related\n",
      "f1 score: [ 0.96697407  0.00475059]\n",
      "Precision score: [ 0.93663155  0.2       ]\n",
      "Recall score: [ 0.99934832  0.00240385]\n",
      "\n",
      "Column Name: transport\n",
      "f1 score: [ 0.97839023  0.17857143]\n",
      "Precision score: [ 0.95931214  0.73170732]\n",
      "Recall score: [ 0.99824253  0.10169492]\n",
      "\n",
      "Column Name: buildings\n",
      "f1 score: [ 0.97233574  0.08333333]\n",
      "Precision score: [ 0.94732006  0.66666667]\n",
      "Recall score: [ 0.99870843  0.04444444]\n",
      "\n",
      "Column Name: electricity\n",
      "f1 score: [ 0.99052461  0.03149606]\n",
      "Precision score: [ 0.98137689  0.66666667]\n",
      "Recall score: [ 0.99984448  0.01612903]\n",
      "\n",
      "Column Name: tools\n",
      "f1 score: [ 0.99678555  0.        ]\n",
      "Precision score: [ 0.99374332  0.        ]\n",
      "Recall score: [ 0.99984646  0.        ]\n",
      "\n",
      "Column Name: hospitals\n",
      "f1 score: [ 0.99439969  0.        ]\n",
      "Precision score: [ 0.98886176  0.        ]\n",
      "Recall score: [ 1.  0.]\n",
      "\n",
      "Column Name: shops\n",
      "f1 score: [ 0.99686232  0.        ]\n",
      "Precision score: [ 0.99374428  0.        ]\n",
      "Recall score: [ 1.  0.]\n",
      "\n",
      "Column Name: aid_centers\n",
      "f1 score: [ 0.99424538  0.        ]\n",
      "Precision score: [ 0.98855661  0.        ]\n",
      "Recall score: [ 1.  0.]\n",
      "\n",
      "Column Name: other_infrastructure\n",
      "f1 score: [ 0.97857087  0.        ]\n",
      "Precision score: [ 0.95891875  0.        ]\n",
      "Recall score: [ 0.99904535  0.        ]\n",
      "\n",
      "Column Name: weather_related\n",
      "f1 score: [ 0.90004953  0.66511782]\n",
      "Precision score: [ 0.84931763  0.83153527]\n",
      "Recall score: [ 0.95722714  0.55420354]\n",
      "\n",
      "Column Name: floods\n",
      "f1 score: [ 0.96349424  0.35193133]"
     ]
    },
    {
     "name": "stderr",
     "output_type": "stream",
     "text": [
      "/opt/conda/lib/python3.6/site-packages/sklearn/metrics/classification.py:1135: UndefinedMetricWarning: F-score is ill-defined and being set to 0.0 in labels with no predicted samples.\n",
      "  'precision', 'predicted', average, warn_for)\n",
      "/opt/conda/lib/python3.6/site-packages/sklearn/metrics/classification.py:1135: UndefinedMetricWarning: Precision is ill-defined and being set to 0.0 in labels with no predicted samples.\n",
      "  'precision', 'predicted', average, warn_for)\n"
     ]
    },
    {
     "name": "stdout",
     "output_type": "stream",
     "text": [
      "\n",
      "Precision score: [ 0.93231441  0.86619718]\n",
      "Recall score: [ 0.99683175  0.22082585]\n",
      "\n",
      "Column Name: storm\n",
      "f1 score: [ 0.96125689  0.50473186]\n",
      "Precision score: [ 0.93622817  0.76677316]\n",
      "Recall score: [ 0.98766058  0.37617555]\n",
      "\n",
      "Column Name: fire\n",
      "f1 score: [ 0.99478448  0.02857143]\n",
      "Precision score: [ 0.98962307  1.        ]\n",
      "Recall score: [ 1.          0.01449275]\n",
      "\n",
      "Column Name: earthquake\n",
      "f1 score: [ 0.98121638  0.77810362]\n",
      "Precision score: [ 0.97133028  0.88444444]\n",
      "Recall score: [ 0.9913058   0.69458988]\n",
      "\n",
      "Column Name: cold\n",
      "f1 score: [ 0.99175718  0.15748031]\n",
      "Precision score: [ 0.98455185  0.625     ]\n",
      "Recall score: [ 0.99906876  0.09009009]\n",
      "\n",
      "Column Name: other_weather\n",
      "f1 score: [ 0.97126211  0.1031941 ]\n",
      "Precision score: [ 0.94644775  0.56756757]\n",
      "Recall score: [ 0.99741268  0.05675676]\n",
      "\n",
      "Column Name: direct_report\n",
      "f1 score: [ 0.91494253  0.46496107]\n",
      "Precision score: [ 0.85733223  0.80539499]\n",
      "Recall score: [ 0.98085308  0.32681783]\n",
      "\n"
     ]
    }
   ],
   "source": [
    "accuracy=[]\n",
    "for a,b in zip(y_test, y_pred.T):  \n",
    "    print(\"Column Name: \"+a)\n",
    "    print(\"f1 score: {}\".format(f1_score(y_test[a], b, average = None)))\n",
    "    print(\"Precision score: {}\".format(precision_score(y_test[a], b, average = None)))\n",
    "    print(\"Recall score: {}\".format(recall_score(y_test[a], b, average = None)))\n",
    "    print()\n",
    "    accuracy.append((y_test[a] == b).mean())\n"
   ]
  },
  {
   "cell_type": "code",
   "execution_count": 16,
   "metadata": {},
   "outputs": [
    {
     "name": "stdout",
     "output_type": "stream",
     "text": [
      "Mean accuracy\n"
     ]
    },
    {
     "data": {
      "text/plain": [
       "0.9424143016987081"
      ]
     },
     "execution_count": 16,
     "metadata": {},
     "output_type": "execute_result"
    }
   ],
   "source": [
    "print('Mean accuracy')\n",
    "mean(accuracy)"
   ]
  },
  {
   "cell_type": "markdown",
   "metadata": {},
   "source": [
    "### 6. Improve your model\n",
    "Use grid search to find better parameters. "
   ]
  },
  {
   "cell_type": "code",
   "execution_count": 18,
   "metadata": {},
   "outputs": [
    {
     "data": {
      "text/plain": [
       "{'memory': None,\n",
       " 'steps': [('vect',\n",
       "   CountVectorizer(analyzer='word', binary=False, decode_error='strict',\n",
       "           dtype=<class 'numpy.int64'>, encoding='utf-8', input='content',\n",
       "           lowercase=True, max_df=1.0, max_features=None, min_df=1,\n",
       "           ngram_range=(1, 1), preprocessor=None, stop_words=None,\n",
       "           strip_accents=None, token_pattern='(?u)\\\\b\\\\w\\\\w+\\\\b',\n",
       "           tokenizer=<function tokenize at 0x7fccb814b620>, vocabulary=None)),\n",
       "  ('tfidf',\n",
       "   TfidfTransformer(norm='l2', smooth_idf=True, sublinear_tf=False, use_idf=True)),\n",
       "  ('clf',\n",
       "   MultiOutputClassifier(estimator=RandomForestClassifier(bootstrap=True, class_weight=None, criterion='gini',\n",
       "               max_depth=None, max_features='auto', max_leaf_nodes=None,\n",
       "               min_impurity_decrease=0.0, min_impurity_split=None,\n",
       "               min_samples_leaf=1, min_samples_split=2,\n",
       "               min_weight_fraction_leaf=0.0, n_estimators=10, n_jobs=1,\n",
       "               oob_score=False, random_state=None, verbose=0,\n",
       "               warm_start=False),\n",
       "              n_jobs=-1))],\n",
       " 'vect': CountVectorizer(analyzer='word', binary=False, decode_error='strict',\n",
       "         dtype=<class 'numpy.int64'>, encoding='utf-8', input='content',\n",
       "         lowercase=True, max_df=1.0, max_features=None, min_df=1,\n",
       "         ngram_range=(1, 1), preprocessor=None, stop_words=None,\n",
       "         strip_accents=None, token_pattern='(?u)\\\\b\\\\w\\\\w+\\\\b',\n",
       "         tokenizer=<function tokenize at 0x7fccb814b620>, vocabulary=None),\n",
       " 'tfidf': TfidfTransformer(norm='l2', smooth_idf=True, sublinear_tf=False, use_idf=True),\n",
       " 'clf': MultiOutputClassifier(estimator=RandomForestClassifier(bootstrap=True, class_weight=None, criterion='gini',\n",
       "             max_depth=None, max_features='auto', max_leaf_nodes=None,\n",
       "             min_impurity_decrease=0.0, min_impurity_split=None,\n",
       "             min_samples_leaf=1, min_samples_split=2,\n",
       "             min_weight_fraction_leaf=0.0, n_estimators=10, n_jobs=1,\n",
       "             oob_score=False, random_state=None, verbose=0,\n",
       "             warm_start=False),\n",
       "            n_jobs=-1),\n",
       " 'vect__analyzer': 'word',\n",
       " 'vect__binary': False,\n",
       " 'vect__decode_error': 'strict',\n",
       " 'vect__dtype': numpy.int64,\n",
       " 'vect__encoding': 'utf-8',\n",
       " 'vect__input': 'content',\n",
       " 'vect__lowercase': True,\n",
       " 'vect__max_df': 1.0,\n",
       " 'vect__max_features': None,\n",
       " 'vect__min_df': 1,\n",
       " 'vect__ngram_range': (1, 1),\n",
       " 'vect__preprocessor': None,\n",
       " 'vect__stop_words': None,\n",
       " 'vect__strip_accents': None,\n",
       " 'vect__token_pattern': '(?u)\\\\b\\\\w\\\\w+\\\\b',\n",
       " 'vect__tokenizer': <function __main__.tokenize(text)>,\n",
       " 'vect__vocabulary': None,\n",
       " 'tfidf__norm': 'l2',\n",
       " 'tfidf__smooth_idf': True,\n",
       " 'tfidf__sublinear_tf': False,\n",
       " 'tfidf__use_idf': True,\n",
       " 'clf__estimator__bootstrap': True,\n",
       " 'clf__estimator__class_weight': None,\n",
       " 'clf__estimator__criterion': 'gini',\n",
       " 'clf__estimator__max_depth': None,\n",
       " 'clf__estimator__max_features': 'auto',\n",
       " 'clf__estimator__max_leaf_nodes': None,\n",
       " 'clf__estimator__min_impurity_decrease': 0.0,\n",
       " 'clf__estimator__min_impurity_split': None,\n",
       " 'clf__estimator__min_samples_leaf': 1,\n",
       " 'clf__estimator__min_samples_split': 2,\n",
       " 'clf__estimator__min_weight_fraction_leaf': 0.0,\n",
       " 'clf__estimator__n_estimators': 10,\n",
       " 'clf__estimator__n_jobs': 1,\n",
       " 'clf__estimator__oob_score': False,\n",
       " 'clf__estimator__random_state': None,\n",
       " 'clf__estimator__verbose': 0,\n",
       " 'clf__estimator__warm_start': False,\n",
       " 'clf__estimator': RandomForestClassifier(bootstrap=True, class_weight=None, criterion='gini',\n",
       "             max_depth=None, max_features='auto', max_leaf_nodes=None,\n",
       "             min_impurity_decrease=0.0, min_impurity_split=None,\n",
       "             min_samples_leaf=1, min_samples_split=2,\n",
       "             min_weight_fraction_leaf=0.0, n_estimators=10, n_jobs=1,\n",
       "             oob_score=False, random_state=None, verbose=0,\n",
       "             warm_start=False),\n",
       " 'clf__n_jobs': -1}"
      ]
     },
     "execution_count": 18,
     "metadata": {},
     "output_type": "execute_result"
    }
   ],
   "source": [
    "pipeline.get_params()"
   ]
  },
  {
   "cell_type": "code",
   "execution_count": 24,
   "metadata": {},
   "outputs": [],
   "source": [
    "parameters = {\n",
    "#        'vect__ngram_range': ((1, 1), (1, 2)),\n",
    "#        'vect__max_df': (0.5, 0.75, 1.0),\n",
    "#        'vect__max_features': (None, 5000, 10000),\n",
    "#        'tfidf__use_idf': (True, False),\n",
    "#        'clf__estimator__n_estimators': [50, 100, 200],\n",
    "        'clf__estimator__min_samples_split': [2, 3]\n",
    "\n",
    "    }\n",
    "\n",
    "cv = GridSearchCV(pipeline,param_grid=parameters, n_jobs=-1, verbose=2)\n",
    "\n"
   ]
  },
  {
   "cell_type": "markdown",
   "metadata": {},
   "source": [
    "### 7. Test your model\n",
    "Show the accuracy, precision, and recall of the tuned model.  \n",
    "\n",
    "Since this project focuses on code quality, process, and  pipelines, there is no minimum performance metric needed to pass. However, make sure to fine tune your models for accuracy, precision and recall to make your project stand out - especially for your portfolio!"
   ]
  },
  {
   "cell_type": "code",
   "execution_count": 25,
   "metadata": {
    "scrolled": true
   },
   "outputs": [
    {
     "name": "stdout",
     "output_type": "stream",
     "text": [
      "Fitting 3 folds for each of 2 candidates, totalling 6 fits\n",
      "[CV] clf__estimator__min_samples_split=2 .............................\n",
      "[CV] .............. clf__estimator__min_samples_split=2, total=  44.0s\n",
      "[CV] clf__estimator__min_samples_split=2 .............................\n"
     ]
    },
    {
     "name": "stderr",
     "output_type": "stream",
     "text": [
      "[Parallel(n_jobs=-1)]: Done   1 out of   1 | elapsed:   52.7s remaining:    0.0s\n"
     ]
    },
    {
     "name": "stdout",
     "output_type": "stream",
     "text": [
      "[CV] .............. clf__estimator__min_samples_split=2, total=  44.2s\n",
      "[CV] clf__estimator__min_samples_split=2 .............................\n",
      "[CV] .............. clf__estimator__min_samples_split=2, total=  47.3s\n",
      "[CV] clf__estimator__min_samples_split=3 .............................\n",
      "[CV] .............. clf__estimator__min_samples_split=3, total=  41.3s\n",
      "[CV] clf__estimator__min_samples_split=3 .............................\n",
      "[CV] .............. clf__estimator__min_samples_split=3, total=  41.5s\n",
      "[CV] clf__estimator__min_samples_split=3 .............................\n",
      "[CV] .............. clf__estimator__min_samples_split=3, total=  40.8s\n"
     ]
    },
    {
     "name": "stderr",
     "output_type": "stream",
     "text": [
      "[Parallel(n_jobs=-1)]: Done   6 out of   6 | elapsed:  5.2min finished\n"
     ]
    },
    {
     "name": "stdout",
     "output_type": "stream",
     "text": [
      "Grid search time taken:  389.0 seconds\n"
     ]
    }
   ],
   "source": [
    "start=time.time()\n",
    "cv.fit(X_train, y_train)\n",
    "print('Grid search time taken: ',round(time.time()-start,0),'seconds')\n"
   ]
  },
  {
   "cell_type": "code",
   "execution_count": 26,
   "metadata": {},
   "outputs": [],
   "source": [
    "y_pred = cv.predict(X_test)"
   ]
  },
  {
   "cell_type": "code",
   "execution_count": 27,
   "metadata": {},
   "outputs": [
    {
     "name": "stdout",
     "output_type": "stream",
     "text": [
      "Column Name: related\n",
      "f1 score: [ 0.49195213  0.88138152  0.5       ]\n",
      "Precision score: [ 0.64782609  0.83452466  0.57894737]\n",
      "Recall score: [ 0.39654025  0.93381324  0.44      ]\n",
      "\n",
      "Column Name: request\n",
      "f1 score: [ 0.93183809  0.540732  ]\n",
      "Precision score: [ 0.88766483  0.81349911]\n",
      "Recall score: [ 0.98063802  0.40495137]\n",
      "\n",
      "Column Name: offer\n",
      "f1 score: [ 0.9974761  0.       ]\n",
      "Precision score: [ 0.99496491  0.        ]\n",
      "Recall score: [ 1.  0.]\n",
      "\n",
      "Column Name: aid_related\n",
      "f1 score: [ 0.7885741   0.60446781]\n",
      "Precision score: [ 0.71054852  0.76074972]\n",
      "Recall score: [ 0.88584955  0.50145349]\n",
      "\n",
      "Column Name: medical_help\n",
      "f1 score: [ 0.95966199  0.10283688]\n",
      "Precision score: [ 0.92557281  0.56862745]\n",
      "Recall score: [ 0.99635822  0.05653021]\n",
      "\n",
      "Column Name: medical_products\n",
      "f1 score: [ 0.97498235  0.10644258]\n",
      "Precision score: [ 0.9524977   0.67857143]\n",
      "Recall score: [ 0.99855422  0.05775076]\n",
      "\n",
      "Column Name: search_and_rescue\n",
      "f1 score: [ 0.98731828  0.06818182]\n",
      "Precision score: [ 0.97540107  0.66666667]\n",
      "Recall score: [ 0.9995303   0.03592814]\n",
      "\n",
      "Column Name: security\n",
      "f1 score: [ 0.99068299  0.        ]\n",
      "Precision score: [ 0.98198748  0.        ]\n",
      "Recall score: [ 0.99953387  0.        ]\n",
      "\n",
      "Column Name: military\n",
      "f1 score: [ 0.98327239  0.15686275]\n",
      "Precision score: [ 0.96828072  0.71428571]\n",
      "Recall score: [ 0.99873558  0.08810573]\n",
      "\n",
      "Column Name: child_alone\n",
      "f1 score: [ 1.]\n",
      "Precision score: [ 1.]\n",
      "Recall score: [ 1.]\n",
      "\n",
      "Column Name: water\n",
      "f1 score: [ 0.97073873  0.39      ]\n",
      "Precision score: [ 0.94622818  0.84782609]\n",
      "Recall score: [ 0.99655286  0.25324675]\n",
      "\n",
      "Column Name: food\n",
      "f1 score: [ 0.95124165  0.40121581]\n",
      "Precision score: [ 0.91203923  0.84978541]\n",
      "Recall score: [ 0.99396552  0.26259947]\n",
      "\n",
      "Column Name: shelter\n",
      "f1 score: [ 0.95883113  0.29166667]\n",
      "Precision score: [ 0.92493381  0.78947368]\n",
      "Recall score: [ 0.99530752  0.17887564]\n",
      "\n",
      "Column Name: clothing\n",
      "f1 score: [ 0.9928467   0.13084112]\n",
      "Precision score: [ 0.98624694  0.7       ]\n",
      "Recall score: [ 0.99953539  0.07216495]\n",
      "\n",
      "Column Name: money\n",
      "f1 score: [ 0.98880568  0.06451613]\n",
      "Precision score: [ 0.97800855  0.83333333]\n",
      "Recall score: [ 0.99984387  0.03355705]\n",
      "\n",
      "Column Name: missing_people\n",
      "f1 score: [ 0.99385844  0.02439024]\n",
      "Precision score: [ 0.98779185  1.        ]\n",
      "Recall score: [ 1.          0.01234568]\n",
      "\n",
      "Column Name: refugees\n",
      "f1 score: [ 0.98166278  0.00840336]\n",
      "Precision score: [ 0.96428026  0.33333333]\n",
      "Recall score: [ 0.99968349  0.00425532]\n",
      "\n",
      "Column Name: death\n",
      "f1 score: [ 0.97937093  0.26740947]\n",
      "Precision score: [ 0.96105296  0.82758621]\n",
      "Recall score: [ 0.99840077  0.15946844]\n",
      "\n",
      "Column Name: other_aid\n",
      "f1 score: [ 0.92908209  0.08093717]\n",
      "Precision score: [ 0.87049584  0.63333333]\n",
      "Recall score: [ 0.99612335  0.04323094]\n",
      "\n",
      "Column Name: infrastructure_related\n",
      "f1 score: [ 0.96705029  0.00947867]\n",
      "Precision score: [ 0.93677459  0.33333333]\n",
      "Recall score: [ 0.99934832  0.00480769]\n",
      "\n",
      "Column Name: transport\n",
      "f1 score: [ 0.97786122  0.12923077]\n",
      "Precision score: [ 0.95800123  0.7       ]\n",
      "Recall score: [ 0.99856207  0.07118644]\n",
      "\n",
      "Column Name: buildings\n",
      "f1 score: [ 0.97293896  0.13131313]\n",
      "Precision score: [ 0.94875729  0.72222222]\n",
      "Recall score: [ 0.99838553  0.07222222]\n",
      "\n",
      "Column Name: electricity\n",
      "f1 score: [ 0.99067725  0.0620155 ]\n",
      "Precision score: [ 0.98167659  0.8       ]\n",
      "Recall score: [ 0.99984448  0.03225806]\n",
      "\n",
      "Column Name: tools\n",
      "f1 score: [ 0.99678555  0.        ]\n",
      "Precision score: [ 0.99374332  0.        ]\n",
      "Recall score: [ 0.99984646  0.        ]\n",
      "\n",
      "Column Name: hospitals\n",
      "f1 score: [ 0.99439969  0.        ]\n",
      "Precision score: [ 0.98886176  0.        ]\n",
      "Recall score: [ 1.  0.]\n",
      "\n",
      "Column Name: shops\n",
      "f1 score: [ 0.99686232  0.        ]\n",
      "Precision score: [ 0.99374428  0.        ]\n",
      "Recall score: [ 1.  0.]\n",
      "\n",
      "Column Name: aid_centers\n",
      "f1 score: [ 0.99424538  0.        ]\n",
      "Precision score: [ 0.98855661  0.        ]\n",
      "Recall score: [ 1.  0.]\n",
      "\n",
      "Column Name: other_infrastructure\n",
      "f1 score: [ 0.97865046  0.        ]\n",
      "Precision score: [ 0.95892503  0.        ]\n",
      "Recall score: [ 0.99920446  0.        ]\n",
      "\n",
      "Column Name: weather_related\n",
      "f1 score: [ 0.8941825   0.63546965]\n",
      "Precision score: [ 0.83909108  0.82120947]\n",
      "Recall score: [ 0.95701643  0.51825221]\n",
      "\n",
      "Column Name: floods\n",
      "f1 score: [ 0.96737635  0.46622517]"
     ]
    },
    {
     "name": "stderr",
     "output_type": "stream",
     "text": [
      "/opt/conda/lib/python3.6/site-packages/sklearn/metrics/classification.py:1135: UndefinedMetricWarning: F-score is ill-defined and being set to 0.0 in labels with no predicted samples.\n",
      "  'precision', 'predicted', average, warn_for)\n",
      "/opt/conda/lib/python3.6/site-packages/sklearn/metrics/classification.py:1135: UndefinedMetricWarning: Precision is ill-defined and being set to 0.0 in labels with no predicted samples.\n",
      "  'precision', 'predicted', average, warn_for)\n"
     ]
    },
    {
     "name": "stdout",
     "output_type": "stream",
     "text": [
      "\n",
      "Precision score: [ 0.94005664  0.88888889]\n",
      "Recall score: [ 0.9963315   0.31597846]\n",
      "\n",
      "Column Name: storm\n",
      "f1 score: [ 0.96277997  0.53112033]\n",
      "Precision score: [ 0.9386641   0.78527607]\n",
      "Recall score: [ 0.98816768  0.40125392]\n",
      "\n",
      "Column Name: fire\n",
      "f1 score: [ 0.99470656  0.05479452]\n",
      "Precision score: [ 0.98977099  0.5       ]\n",
      "Recall score: [ 0.9996916   0.02898551]\n",
      "\n",
      "Column Name: earthquake\n",
      "f1 score: [ 0.97108788  0.59027778]\n",
      "Precision score: [ 0.94922561  0.87628866]\n",
      "Recall score: [ 0.99398094  0.44502618]\n",
      "\n",
      "Column Name: cold\n",
      "f1 score: [ 0.99168207  0.12903226]\n",
      "Precision score: [ 0.98425317  0.61538462]\n",
      "Recall score: [ 0.99922396  0.07207207]\n",
      "\n",
      "Column Name: other_weather\n",
      "f1 score: [ 0.97135663  0.09      ]\n",
      "Precision score: [ 0.94604537  0.6       ]\n",
      "Recall score: [ 0.99805951  0.04864865]\n",
      "\n",
      "Column Name: direct_report\n",
      "f1 score: [ 0.91528724  0.47156267]\n",
      "Precision score: [ 0.85851876  0.80263158]\n",
      "Recall score: [ 0.98009479  0.33385457]\n",
      "\n",
      "Mean accuracy\n",
      "0.941477638762\n"
     ]
    }
   ],
   "source": [
    "accuracy=[]\n",
    "for a,b in zip(y_test, y_pred.T):  \n",
    "    print(\"Column Name: \"+a)\n",
    "    print(\"f1 score: {}\".format(f1_score(y_test[a], b, average = None)))\n",
    "    print(\"Precision score: {}\".format(precision_score(y_test[a], b, average = None)))\n",
    "    print(\"Recall score: {}\".format(recall_score(y_test[a], b, average = None)))\n",
    "    print()\n",
    "    accuracy.append((y_test[a] == b).mean())\n",
    "    \n",
    "    \n",
    "print('Mean accuracy')\n",
    "print(mean(accuracy))"
   ]
  },
  {
   "cell_type": "markdown",
   "metadata": {},
   "source": [
    "### 8. Try improving your model further. Here are a few ideas:\n",
    "* try other machine learning algorithms\n",
    "* add other features besides the TF-IDF"
   ]
  },
  {
   "cell_type": "code",
   "execution_count": null,
   "metadata": {},
   "outputs": [],
   "source": []
  },
  {
   "cell_type": "markdown",
   "metadata": {},
   "source": [
    "### 9. Export your model as a pickle file"
   ]
  },
  {
   "cell_type": "code",
   "execution_count": 11,
   "metadata": {},
   "outputs": [],
   "source": [
    "# save the model to disk\n",
    "filename = 'finalized_model.sav'\n",
    "pickle.dump(cv, open(filename, 'wb'))"
   ]
  },
  {
   "cell_type": "markdown",
   "metadata": {},
   "source": [
    "### 10. Use this notebook to complete `train.py`\n",
    "Use the template file attached in the Resources folder to write a script that runs the steps above to create a database and export a model based on a new dataset specified by the user."
   ]
  },
  {
   "cell_type": "code",
   "execution_count": 14,
   "metadata": {},
   "outputs": [
    {
     "data": {
      "text/plain": [
       "id                                                                399133916\n",
       "message                   Weather update - a cold front from Cuba that c...\n",
       "genre                     directdirectdirectdirectdirectdirectdirectdire...\n",
       "related                                                               20282\n",
       "request                                                                4474\n",
       "offer                                                                   118\n",
       "aid_related                                                           10860\n",
       "medical_help                                                           2084\n",
       "medical_products                                                       1313\n",
       "search_and_rescue                                                       724\n",
       "security                                                                471\n",
       "military                                                                860\n",
       "child_alone                                                               0\n",
       "water                                                                  1672\n",
       "food                                                                   2923\n",
       "shelter                                                                2314\n",
       "clothing                                                                405\n",
       "money                                                                   604\n",
       "missing_people                                                          298\n",
       "refugees                                                                875\n",
       "death                                                                  1194\n",
       "other_aid                                                              3446\n",
       "infrastructure_related                                                 1705\n",
       "transport                                                              1201\n",
       "buildings                                                              1333\n",
       "electricity                                                             532\n",
       "tools                                                                   159\n",
       "hospitals                                                               283\n",
       "shops                                                                   120\n",
       "aid_centers                                                             309\n",
       "other_infrastructure                                                   1151\n",
       "weather_related                                                        7297\n",
       "floods                                                                 2155\n",
       "storm                                                                  2443\n",
       "fire                                                                    282\n",
       "earthquake                                                             2455\n",
       "cold                                                                    530\n",
       "other_weather                                                          1376\n",
       "direct_report                                                          5075\n",
       "dtype: object"
      ]
     },
     "execution_count": 14,
     "metadata": {},
     "output_type": "execute_result"
    }
   ],
   "source": [
    "df.sum(axis=0)\n"
   ]
  },
  {
   "cell_type": "code",
   "execution_count": 34,
   "metadata": {},
   "outputs": [
    {
     "data": {
      "text/plain": [
       "<matplotlib.axes._subplots.AxesSubplot at 0x7fcea1f01828>"
      ]
     },
     "execution_count": 34,
     "metadata": {},
     "output_type": "execute_result"
    },
    {
     "data": {
      "image/png": "[encoded data removed]",
      "text/plain": [
       "<matplotlib.figure.Figure at 0x7fcea1f0a080>"
      ]
     },
     "metadata": {
      "needs_background": "light"
     },
     "output_type": "display_data"
    }
   ],
   "source": [
    "g1 = df.drop(df.columns[[0, 1]], axis=1, inplace=False).sum(axis = 0).sort_values(ascending =False)\n",
    "\n",
    "g1.reset_index()\n",
    "\n",
    "g1[:3].plot.bar()"
   ]
  },
  {
   "cell_type": "code",
   "execution_count": 70,
   "metadata": {
    "scrolled": true
   },
   "outputs": [
    {
     "data": {
      "text/plain": [
       "0            related\n",
       "1        aid_related\n",
       "2    weather_related\n",
       "3      direct_report\n",
       "4            request\n",
       "5          other_aid\n",
       "6               food\n",
       "7         earthquake\n",
       "8              storm\n",
       "9            shelter\n",
       "Name: index, dtype: object"
      ]
     },
     "execution_count": 70,
     "metadata": {},
     "output_type": "execute_result"
    }
   ],
   "source": [
    "message_cat_sum = df.drop(df.columns[[0, 1]], axis=1, inplace=False).sum(axis = 0).sort_values(ascending =False)[:10].reset_index()\n",
    "message_cat_sum['index']"
   ]
  }
 ],
 "metadata": {
  "kernelspec": {
   "display_name": "Python 3",
   "language": "python",
   "name": "python3"
  },
  "language_info": {
   "codemirror_mode": {
    "name": "ipython",
    "version": 3
   },
   "file_extension": ".py",
   "mimetype": "text/x-python",
   "name": "python",
   "nbconvert_exporter": "python",
   "pygments_lexer": "ipython3",
   "version": "3.6.3"
  }
 },
 "nbformat": 4,
 "nbformat_minor": 2
}
